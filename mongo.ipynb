{
 "cells": [
  {
   "cell_type": "code",
   "execution_count": null,
   "metadata": {},
   "outputs": [],
   "source": [
    "from pymongo import MongoClient\n",
    "import os\n",
    "from src.repository import (\n",
    "    COLLECTION, MONGO_URI_KEY,\n",
    "    TEXT_EMBEDDING_LENGTH,\n",
    "    IMAGE_EMBEDDING_LENGTH\n",
    ")"
   ]
  },
  {
   "cell_type": "code",
   "execution_count": null,
   "metadata": {},
   "outputs": [],
   "source": [
    "uri = os.environ.get(MONGO_URI_KEY)\n",
    "client = MongoClient(uri)\n",
    "db = client.get_default_database()"
   ]
  },
  {
   "cell_type": "code",
   "execution_count": null,
   "metadata": {},
   "outputs": [],
   "source": [
    "# Text Embedding Index\n",
    "db[COLLECTION].create_search_index({\n",
    "    \"name\": \"text-embedding-index\",\n",
    "    \"definition\": {\n",
    "        \"mappings\": {\n",
    "            \"fields\": {\n",
    "              \"textEmbedding\": {\n",
    "                \"type\": \"knnVector\",\n",
    "                \"dimensions\": TEXT_EMBEDDING_LENGTH,\n",
    "                \"similarity\": \"cosine\"\n",
    "              },\n",
    "              \"venueCity\": {\n",
    "                \"type\": \"token\"\n",
    "              }\n",
    "            }\n",
    "        }\n",
    "    }\n",
    "})"
   ]
  },
  {
   "cell_type": "code",
   "execution_count": null,
   "metadata": {},
   "outputs": [],
   "source": [
    "# Image Embedding Index\n",
    "db[COLLECTION].create_search_index({\n",
    "    \"name\": \"image-embedding-index\",\n",
    "    \"definition\": {\n",
    "        \"mappings\": {\n",
    "            \"fields\": {\n",
    "              \"imageEmbedding\": {\n",
    "                \"type\": \"knnVector\",\n",
    "                \"dimensions\": IMAGE_EMBEDDING_LENGTH,\n",
    "                \"similarity\": \"cosine\"\n",
    "              },\n",
    "              \"venueCity\": {\n",
    "                \"type\": \"token\"\n",
    "              }\n",
    "            }\n",
    "        }\n",
    "    }\n",
    "})"
   ]
  },
  {
   "cell_type": "code",
   "execution_count": null,
   "metadata": {},
   "outputs": [],
   "source": [
    "# Other Indexes\n",
    "db[COLLECTION].create_index(\"itemId\")\n",
    "db[COLLECTION].create_index(\"venueCity\")"
   ]
  }
 ],
 "metadata": {
  "kernelspec": {
   "display_name": "python-meetup-demo-BIEvXeo3-py3.11",
   "language": "python",
   "name": "python3"
  },
  "language_info": {
   "codemirror_mode": {
    "name": "ipython",
    "version": 3
   },
   "file_extension": ".py",
   "mimetype": "text/x-python",
   "name": "python",
   "nbconvert_exporter": "python",
   "pygments_lexer": "ipython3",
   "version": "3.11.2"
  }
 },
 "nbformat": 4,
 "nbformat_minor": 2
}
